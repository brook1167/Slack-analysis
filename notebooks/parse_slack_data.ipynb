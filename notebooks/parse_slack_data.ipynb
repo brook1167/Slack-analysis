{
 "cells": [
  {
   "cell_type": "code",
   "execution_count": 580,
   "metadata": {},
   "outputs": [],
   "source": [
    "%reload_ext autoreload\n",
    "%autoreload 2"
   ]
  },
  {
   "cell_type": "code",
   "execution_count": null,
   "metadata": {},
   "outputs": [],
   "source": []
  },
  {
   "cell_type": "code",
   "execution_count": 581,
   "metadata": {},
   "outputs": [],
   "source": [
    "import os, sys\n",
    "import re\n",
    "import json\n",
    "import glob\n",
    "import datetime\n",
    "from collections import Counter\n",
    "\n",
    "import pandas as pd\n",
    "from matplotlib import pyplot as plt\n",
    "import seaborn as sns\n",
    "\n",
    "from nltk.corpus import stopwords\n",
    "from wordcloud import WordCloud"
   ]
  },
  {
   "cell_type": "code",
   "execution_count": 582,
   "metadata": {},
   "outputs": [],
   "source": [
    "# Add parent directory to path to import modules from src\n",
    "rpath = os.path.abspath('..')\n",
    "if rpath not in sys.path:\n",
    "    sys.path.insert(0, rpath)\n",
    "\n",
    "from src.loader import SlackDataLoader\n",
    "import src.utils as utils"
   ]
  },
  {
   "cell_type": "markdown",
   "metadata": {},
   "source": [
    "### Columns we can get from a slack message<br>\n",
    "\n",
    "message_type, message_content, sender_id, time_sent, message_distribution, time_thread_start, reply_count, reply_user_count, time_thread_end, reply_users"
   ]
  },
  {
   "cell_type": "markdown",
   "metadata": {},
   "source": [
    "From a single slack message, we can get <br>\n",
    "\n",
    "1. The message<br>\n",
    "2. Type (message, file, link, etc)<br>\n",
    "3. The sender_id (assigned by slack)<br>\n",
    "4. The time the message was sent<br>\n",
    "5. The team (i don't know what that is now)<br>\n",
    "6. The type of the message (broadcast message, inhouse, just messgae)<br>\n",
    "7. The thread the message generated (from here we can go):<br>\n",
    "    7.1 Text/content of the message<br>\n",
    "    7.2 The thread time of the message<br>\n",
    "    7.3 The thread count (reply count)<br>\n",
    "    7.4 The number of user that reply the message (count of users that participated in the thread)<br>\n",
    "    7.5 The time the last thread message was sent <br>\n",
    "    7.6 The users that participated in the thread (their ids are stored as well)<br>"
   ]
  },
  {
   "cell_type": "code",
   "execution_count": 623,
   "metadata": {},
   "outputs": [
    {
     "data": {
      "text/plain": [
       "Index(['msg_type', 'msg_content', 'sender_name', 'msg_sent_time',\n",
       "       'msg_dist_type', 'time_thread_start', 'reply_count',\n",
       "       'reply_users_count', 'reply_users', 'tm_thread_end', 'channel'],\n",
       "      dtype='object')"
      ]
     },
     "execution_count": 623,
     "metadata": {},
     "output_type": "execute_result"
    }
   ],
   "source": [
    "# combine all json file in all-weeks8-9\n",
    "\n",
    "from src.loader import SlackDataLoader\n",
    "\n",
    "# Initialize DataLoader\n",
    "data_loader  = SlackDataLoader\n",
    "\n",
    "# Load data from a Slack channel\n",
    "\n",
    "slack_data = data_loader.slack_parser('../data/all-week1/')\n",
    "\n",
    "slack_data.columns"
   ]
  },
  {
   "cell_type": "markdown",
   "metadata": {},
   "source": [
    "Top 10 users by replaying count"
   ]
  },
  {
   "cell_type": "code",
   "execution_count": 622,
   "metadata": {},
   "outputs": [
    {
     "data": {
      "text/plain": [
       "sender_name\n",
       "Cristian Wilson     76\n",
       "Michelle Lewis      60\n",
       "Veronica Padilla    37\n",
       "Brenda Hernandez    34\n",
       "Katie Dickerson     24\n",
       "Joshua Rhodes       19\n",
       "Mark Crawford       12\n",
       "Steven Garcia       12\n",
       "Anita Rodriguez     11\n",
       "Kelly Soto           9\n",
       "Name: reply_count, dtype: int64"
      ]
     },
     "execution_count": 622,
     "metadata": {},
     "output_type": "execute_result"
    }
   ],
   "source": [
    "top_10_replaying_users = slack_data.groupby('sender_name')['reply_count'].sum().nlargest(10)\n",
    "\n",
    "top_10_replaying_users"
   ]
  },
  {
   "cell_type": "markdown",
   "metadata": {},
   "source": [
    "Bottom 10  users by replying count"
   ]
  },
  {
   "cell_type": "code",
   "execution_count": 585,
   "metadata": {},
   "outputs": [
    {
     "data": {
      "text/plain": [
       "sender_name\n",
       "Anthony Galloway    0\n",
       "Brady Rhodes        0\n",
       "David Scott         0\n",
       "Jennifer Foley      0\n",
       "John Romero         0\n",
       "Joseph Diaz         0\n",
       "Katherine Foster    0\n",
       "Leah Newton         0\n",
       "Luis Ingram         0\n",
       "Mandy Sweeney       0\n",
       "Name: reply_count, dtype: int64"
      ]
     },
     "execution_count": 585,
     "metadata": {},
     "output_type": "execute_result"
    }
   ],
   "source": [
    "bottom_10_replaying_users = slack_data.groupby('sender_name')['reply_count'].sum().nsmallest(10)\n",
    "\n",
    "bottom_10_replaying_users\n"
   ]
  },
  {
   "cell_type": "markdown",
   "metadata": {},
   "source": [
    "Top 10  users by mention"
   ]
  },
  {
   "cell_type": "code",
   "execution_count": 586,
   "metadata": {},
   "outputs": [
    {
     "data": {
      "text/plain": [
       "sender_name\n",
       "Veronica Padilla    17\n",
       "Brenda Hernandez    11\n",
       "Cristian Wilson      7\n",
       "Brian Odom           5\n",
       "Katie Dickerson      5\n",
       "Phillip Atkins       5\n",
       "Carlos Gross         4\n",
       "Joshua Rhodes        4\n",
       "Katherine Foster     4\n",
       "Michelle Lewis       4\n",
       "Name: msg_content, dtype: int64"
      ]
     },
     "execution_count": 586,
     "metadata": {},
     "output_type": "execute_result"
    }
   ],
   "source": [
    "top_10_mention_users = slack_data.groupby('sender_name')['msg_content'].apply(lambda x: x.str.count('@').sum()).nlargest(10)\n",
    "\n",
    "top_10_mention_users\n"
   ]
  },
  {
   "cell_type": "markdown",
   "metadata": {},
   "source": [
    "Bottom 10  users by mention"
   ]
  },
  {
   "cell_type": "code",
   "execution_count": 587,
   "metadata": {},
   "outputs": [
    {
     "data": {
      "text/plain": [
       "sender_name\n",
       "Ashley Hamilton    0\n",
       "Daniel Brown       0\n",
       "David Scott        0\n",
       "Dustin Wilson      0\n",
       "Jodi Lyons         0\n",
       "John Romero        0\n",
       "Kelly Soto         0\n",
       "Leah Newton        0\n",
       "Luis Ingram        0\n",
       "Melissa Ingram     0\n",
       "Name: msg_content, dtype: int64"
      ]
     },
     "execution_count": 587,
     "metadata": {},
     "output_type": "execute_result"
    }
   ],
   "source": [
    "bottom_10_mention_users = slack_data.groupby('sender_name')['msg_content'].apply(lambda x: x.str.count('@').sum()).nsmallest(10)\n",
    "\n",
    "bottom_10_mention_users\n"
   ]
  },
  {
   "cell_type": "markdown",
   "metadata": {},
   "source": [
    "Top 10  users by message count"
   ]
  },
  {
   "cell_type": "code",
   "execution_count": 606,
   "metadata": {},
   "outputs": [
    {
     "data": {
      "text/plain": [
       "sender_name\n",
       "Cristian Wilson     66\n",
       "Brenda Hernandez    52\n",
       "Travis Butler       45\n",
       "Michelle Lewis      42\n",
       "Veronica Padilla    35\n",
       "Katie Dickerson     30\n",
       "Joshua Rhodes       27\n",
       "Brittany Garcia     24\n",
       "Phillip Atkins      21\n",
       "April Lucas         17\n",
       "Name: count, dtype: int64"
      ]
     },
     "execution_count": 606,
     "metadata": {},
     "output_type": "execute_result"
    }
   ],
   "source": [
    "top_10_message_users = slack_data['sender_name'].value_counts().nlargest(10)\n",
    "\n",
    "top_10_message_users"
   ]
  },
  {
   "cell_type": "markdown",
   "metadata": {},
   "source": [
    "Bottom 10  users by message count"
   ]
  },
  {
   "cell_type": "code",
   "execution_count": 589,
   "metadata": {},
   "outputs": [
    {
     "data": {
      "text/plain": [
       "sender_name\n",
       "Ashley Hamilton    0\n",
       "Daniel Brown       0\n",
       "David Scott        0\n",
       "Dustin Wilson      0\n",
       "Jodi Lyons         0\n",
       "John Romero        0\n",
       "Kelly Soto         0\n",
       "Leah Newton        0\n",
       "Luis Ingram        0\n",
       "Melissa Ingram     0\n",
       "Name: msg_content, dtype: int64"
      ]
     },
     "execution_count": 589,
     "metadata": {},
     "output_type": "execute_result"
    }
   ],
   "source": [
    "bottom_10_message_users = slack_data['sender_name'].value_counts().nsmallest(10)\n",
    "\n",
    "bottom_10_mention_users"
   ]
  },
  {
   "cell_type": "markdown",
   "metadata": {},
   "source": [
    "Top 10  users by reaction count"
   ]
  },
  {
   "cell_type": "code",
   "execution_count": 607,
   "metadata": {},
   "outputs": [
    {
     "data": {
      "text/plain": [
       "sender_name\n",
       "Michelle Lewis      39\n",
       "Cristian Wilson     38\n",
       "Brenda Hernandez    24\n",
       "Katie Dickerson     20\n",
       "Veronica Padilla    18\n",
       "Joshua Rhodes        9\n",
       "Mark Crawford        7\n",
       "Anita Rodriguez      6\n",
       "Judith Bolton        6\n",
       "Travis Butler        6\n",
       "Name: reply_users_count, dtype: int64"
      ]
     },
     "execution_count": 607,
     "metadata": {},
     "output_type": "execute_result"
    }
   ],
   "source": [
    "top_10_reaction_users = slack_data.groupby('sender_name')['reply_users_count'].sum().nlargest(10)\n",
    "\n",
    "top_10_reaction_users"
   ]
  },
  {
   "cell_type": "markdown",
   "metadata": {},
   "source": [
    "Bottom 10  users by reaction count"
   ]
  },
  {
   "cell_type": "code",
   "execution_count": 591,
   "metadata": {},
   "outputs": [
    {
     "data": {
      "text/plain": [
       "sender_name\n",
       "Anthony Galloway    0\n",
       "Brady Rhodes        0\n",
       "David Scott         0\n",
       "Jennifer Foley      0\n",
       "John Romero         0\n",
       "Joseph Diaz         0\n",
       "Katherine Foster    0\n",
       "Leah Newton         0\n",
       "Luis Ingram         0\n",
       "Mandy Sweeney       0\n",
       "Name: reply_users_count, dtype: int64"
      ]
     },
     "execution_count": 591,
     "metadata": {},
     "output_type": "execute_result"
    }
   ],
   "source": [
    "bottom_10_reaction_users = slack_data.groupby('sender_name')['reply_users_count'].sum().nsmallest(10)\n",
    "\n",
    "bottom_10_reaction_users"
   ]
  },
  {
   "cell_type": "markdown",
   "metadata": {},
   "source": [
    "Top 10 messages by replies"
   ]
  },
  {
   "cell_type": "code",
   "execution_count": 592,
   "metadata": {},
   "outputs": [
    {
     "data": {
      "text/html": [
       "<div>\n",
       "<style scoped>\n",
       "    .dataframe tbody tr th:only-of-type {\n",
       "        vertical-align: middle;\n",
       "    }\n",
       "\n",
       "    .dataframe tbody tr th {\n",
       "        vertical-align: top;\n",
       "    }\n",
       "\n",
       "    .dataframe thead th {\n",
       "        text-align: right;\n",
       "    }\n",
       "</style>\n",
       "<table border=\"1\" class=\"dataframe\">\n",
       "  <thead>\n",
       "    <tr style=\"text-align: right;\">\n",
       "      <th></th>\n",
       "      <th>msg_content</th>\n",
       "      <th>reply_count</th>\n",
       "    </tr>\n",
       "  </thead>\n",
       "  <tbody>\n",
       "    <tr>\n",
       "      <th>456</th>\n",
       "      <td>I need some one who understood task two to ask...</td>\n",
       "      <td>18</td>\n",
       "    </tr>\n",
       "    <tr>\n",
       "      <th>345</th>\n",
       "      <td>&lt;@U03UKL27B0R&gt; I have used sum but it didn't s...</td>\n",
       "      <td>14</td>\n",
       "    </tr>\n",
       "    <tr>\n",
       "      <th>169</th>\n",
       "      <td>What are you guys using for your work please, ...</td>\n",
       "      <td>12</td>\n",
       "    </tr>\n",
       "    <tr>\n",
       "      <th>463</th>\n",
       "      <td>What is everybody using to measure session fre...</td>\n",
       "      <td>12</td>\n",
       "    </tr>\n",
       "    <tr>\n",
       "      <th>434</th>\n",
       "      <td>I suggest that if  the managing team made a sh...</td>\n",
       "      <td>10</td>\n",
       "    </tr>\n",
       "    <tr>\n",
       "      <th>539</th>\n",
       "      <td>&lt;@U03V8LHPDME&gt; &lt;@U03UKL27B0R&gt; &lt;@U03U9DB7REG&gt; a...</td>\n",
       "      <td>10</td>\n",
       "    </tr>\n",
       "    <tr>\n",
       "      <th>70</th>\n",
       "      <td>anyone who have an idea on how to use  utility...</td>\n",
       "      <td>9</td>\n",
       "    </tr>\n",
       "    <tr>\n",
       "      <th>45</th>\n",
       "      <td>&lt;!here&gt; &lt;!channel&gt; I appreciate if anyone can ...</td>\n",
       "      <td>8</td>\n",
       "    </tr>\n",
       "    <tr>\n",
       "      <th>23</th>\n",
       "      <td>I think that if we replace them, we will chang...</td>\n",
       "      <td>7</td>\n",
       "    </tr>\n",
       "    <tr>\n",
       "      <th>145</th>\n",
       "      <td>One moment my notebook will work, the next mom...</td>\n",
       "      <td>7</td>\n",
       "    </tr>\n",
       "  </tbody>\n",
       "</table>\n",
       "</div>"
      ],
      "text/plain": [
       "                                           msg_content  reply_count\n",
       "456  I need some one who understood task two to ask...           18\n",
       "345  <@U03UKL27B0R> I have used sum but it didn't s...           14\n",
       "169  What are you guys using for your work please, ...           12\n",
       "463  What is everybody using to measure session fre...           12\n",
       "434  I suggest that if  the managing team made a sh...           10\n",
       "539  <@U03V8LHPDME> <@U03UKL27B0R> <@U03U9DB7REG> a...           10\n",
       "70   anyone who have an idea on how to use  utility...            9\n",
       "45   <!here> <!channel> I appreciate if anyone can ...            8\n",
       "23   I think that if we replace them, we will chang...            7\n",
       "145  One moment my notebook will work, the next mom...            7"
      ]
     },
     "execution_count": 592,
     "metadata": {},
     "output_type": "execute_result"
    }
   ],
   "source": [
    "top_10_messages_by_replies = slack_data.nlargest(10, 'reply_count')\n",
    "\n",
    "top_10_messages_by_replies[['msg_content', 'reply_count']]\n"
   ]
  },
  {
   "cell_type": "markdown",
   "metadata": {},
   "source": [
    "Top 10 message by reaction"
   ]
  },
  {
   "cell_type": "code",
   "execution_count": 593,
   "metadata": {},
   "outputs": [
    {
     "data": {
      "text/html": [
       "<div>\n",
       "<style scoped>\n",
       "    .dataframe tbody tr th:only-of-type {\n",
       "        vertical-align: middle;\n",
       "    }\n",
       "\n",
       "    .dataframe tbody tr th {\n",
       "        vertical-align: top;\n",
       "    }\n",
       "\n",
       "    .dataframe thead th {\n",
       "        text-align: right;\n",
       "    }\n",
       "</style>\n",
       "<table border=\"1\" class=\"dataframe\">\n",
       "  <thead>\n",
       "    <tr style=\"text-align: right;\">\n",
       "      <th></th>\n",
       "      <th>msg_content</th>\n",
       "      <th>reply_users_count</th>\n",
       "    </tr>\n",
       "  </thead>\n",
       "  <tbody>\n",
       "    <tr>\n",
       "      <th>169</th>\n",
       "      <td>What are you guys using for your work please, ...</td>\n",
       "      <td>5</td>\n",
       "    </tr>\n",
       "    <tr>\n",
       "      <th>348</th>\n",
       "      <td>Does the &amp;lt;number of xDR sessions&amp;gt; task 1...</td>\n",
       "      <td>5</td>\n",
       "    </tr>\n",
       "    <tr>\n",
       "      <th>434</th>\n",
       "      <td>I suggest that if  the managing team made a sh...</td>\n",
       "      <td>5</td>\n",
       "    </tr>\n",
       "    <tr>\n",
       "      <th>5</th>\n",
       "      <td>What does this mean please \"Milliseconds offse...</td>\n",
       "      <td>4</td>\n",
       "    </tr>\n",
       "    <tr>\n",
       "      <th>16</th>\n",
       "      <td>i used &amp;lt;MSISDN/Number&amp;gt;. because I think ...</td>\n",
       "      <td>4</td>\n",
       "    </tr>\n",
       "    <tr>\n",
       "      <th>23</th>\n",
       "      <td>I think that if we replace them, we will chang...</td>\n",
       "      <td>4</td>\n",
       "    </tr>\n",
       "    <tr>\n",
       "      <th>38</th>\n",
       "      <td>Hello everyone, how are you doing?\\nI got a pr...</td>\n",
       "      <td>4</td>\n",
       "    </tr>\n",
       "    <tr>\n",
       "      <th>251</th>\n",
       "      <td>Just to be clear, today's submission would be ...</td>\n",
       "      <td>4</td>\n",
       "    </tr>\n",
       "    <tr>\n",
       "      <th>283</th>\n",
       "      <td>Any have information, on the time the next ses...</td>\n",
       "      <td>4</td>\n",
       "    </tr>\n",
       "    <tr>\n",
       "      <th>345</th>\n",
       "      <td>&lt;@U03UKL27B0R&gt; I have used sum but it didn't s...</td>\n",
       "      <td>4</td>\n",
       "    </tr>\n",
       "  </tbody>\n",
       "</table>\n",
       "</div>"
      ],
      "text/plain": [
       "                                           msg_content  reply_users_count\n",
       "169  What are you guys using for your work please, ...                  5\n",
       "348  Does the &lt;number of xDR sessions&gt; task 1...                  5\n",
       "434  I suggest that if  the managing team made a sh...                  5\n",
       "5    What does this mean please \"Milliseconds offse...                  4\n",
       "16   i used &lt;MSISDN/Number&gt;. because I think ...                  4\n",
       "23   I think that if we replace them, we will chang...                  4\n",
       "38   Hello everyone, how are you doing?\\nI got a pr...                  4\n",
       "251  Just to be clear, today's submission would be ...                  4\n",
       "283  Any have information, on the time the next ses...                  4\n",
       "345  <@U03UKL27B0R> I have used sum but it didn't s...                  4"
      ]
     },
     "execution_count": 593,
     "metadata": {},
     "output_type": "execute_result"
    }
   ],
   "source": [
    "top_10_messages_by_reactions = slack_data.nlargest(10, 'reply_users_count')\n",
    "\n",
    "top_10_messages_by_reactions[['msg_content', 'reply_users_count']]"
   ]
  },
  {
   "cell_type": "markdown",
   "metadata": {},
   "source": [
    "Top 10 message by mention"
   ]
  },
  {
   "cell_type": "code",
   "execution_count": 594,
   "metadata": {},
   "outputs": [
    {
     "data": {
      "text/html": [
       "<div>\n",
       "<style scoped>\n",
       "    .dataframe tbody tr th:only-of-type {\n",
       "        vertical-align: middle;\n",
       "    }\n",
       "\n",
       "    .dataframe tbody tr th {\n",
       "        vertical-align: top;\n",
       "    }\n",
       "\n",
       "    .dataframe thead th {\n",
       "        text-align: right;\n",
       "    }\n",
       "</style>\n",
       "<table border=\"1\" class=\"dataframe\">\n",
       "  <thead>\n",
       "    <tr style=\"text-align: right;\">\n",
       "      <th></th>\n",
       "      <th>msg_content</th>\n",
       "      <th>mention_count</th>\n",
       "    </tr>\n",
       "  </thead>\n",
       "  <tbody>\n",
       "    <tr>\n",
       "      <th>490</th>\n",
       "      <td>What do instructions say &lt;@U03UJGP0C68&gt; ? &lt;@U0...</td>\n",
       "      <td>3</td>\n",
       "    </tr>\n",
       "    <tr>\n",
       "      <th>539</th>\n",
       "      <td>&lt;@U03V8LHPDME&gt; &lt;@U03UKL27B0R&gt; &lt;@U03U9DB7REG&gt; a...</td>\n",
       "      <td>3</td>\n",
       "    </tr>\n",
       "    <tr>\n",
       "      <th>1</th>\n",
       "      <td>&lt;@U03UKL27B0R&gt; and &lt;@U03UKGSDGSG&gt; Thanks a lot</td>\n",
       "      <td>2</td>\n",
       "    </tr>\n",
       "    <tr>\n",
       "      <th>80</th>\n",
       "      <td>Thank you &lt;@U03UKL27B0R&gt; &lt;@U03UUR571A5&gt;</td>\n",
       "      <td>2</td>\n",
       "    </tr>\n",
       "    <tr>\n",
       "      <th>102</th>\n",
       "      <td>&lt;!here&gt; &lt;!channel&gt; &lt;@U03V8LHPDME&gt; &lt;@U03UKL27B0...</td>\n",
       "      <td>2</td>\n",
       "    </tr>\n",
       "    <tr>\n",
       "      <th>117</th>\n",
       "      <td>&lt;@U03V1AM5TFA&gt; &lt;@U03TEPYRM2P&gt; Isn't there any ...</td>\n",
       "      <td>2</td>\n",
       "    </tr>\n",
       "    <tr>\n",
       "      <th>119</th>\n",
       "      <td>Thank you &lt;@U03TEPYRM2P&gt; and &lt;@U03UVHCV6KB&gt;. I...</td>\n",
       "      <td>2</td>\n",
       "    </tr>\n",
       "    <tr>\n",
       "      <th>201</th>\n",
       "      <td>Thank you &lt;@U03UJGRN5E0&gt; and &lt;@U03UH397319&gt;.</td>\n",
       "      <td>2</td>\n",
       "    </tr>\n",
       "    <tr>\n",
       "      <th>204</th>\n",
       "      <td>Thank You&lt;@U03U9EJR362&gt;  and &lt;@U03UJN29Y4C&gt;</td>\n",
       "      <td>2</td>\n",
       "    </tr>\n",
       "    <tr>\n",
       "      <th>224</th>\n",
       "      <td>thank you &lt;@U03UH397319&gt; &lt;@U03UKL27B0R&gt; it is ...</td>\n",
       "      <td>2</td>\n",
       "    </tr>\n",
       "  </tbody>\n",
       "</table>\n",
       "</div>"
      ],
      "text/plain": [
       "                                           msg_content  mention_count\n",
       "490  What do instructions say <@U03UJGP0C68> ? <@U0...              3\n",
       "539  <@U03V8LHPDME> <@U03UKL27B0R> <@U03U9DB7REG> a...              3\n",
       "1       <@U03UKL27B0R> and <@U03UKGSDGSG> Thanks a lot              2\n",
       "80             Thank you <@U03UKL27B0R> <@U03UUR571A5>              2\n",
       "102  <!here> <!channel> <@U03V8LHPDME> <@U03UKL27B0...              2\n",
       "117  <@U03V1AM5TFA> <@U03TEPYRM2P> Isn't there any ...              2\n",
       "119  Thank you <@U03TEPYRM2P> and <@U03UVHCV6KB>. I...              2\n",
       "201       Thank you <@U03UJGRN5E0> and <@U03UH397319>.              2\n",
       "204        Thank You<@U03U9EJR362>  and <@U03UJN29Y4C>              2\n",
       "224  thank you <@U03UH397319> <@U03UKL27B0R> it is ...              2"
      ]
     },
     "execution_count": 594,
     "metadata": {},
     "output_type": "execute_result"
    }
   ],
   "source": [
    "slack_data['mention_count'] = slack_data['msg_content'].apply(lambda x: x.count('@'))\n",
    "\n",
    "top_messages_by_mentions = slack_data.nlargest(10, 'mention_count')\n",
    "top_messages_by_mentions[['msg_content', 'mention_count']]\n"
   ]
  },
  {
   "cell_type": "code",
   "execution_count": null,
   "metadata": {},
   "outputs": [],
   "source": []
  },
  {
   "cell_type": "code",
   "execution_count": 595,
   "metadata": {},
   "outputs": [],
   "source": [
    "def get_top_20_user(data, channel='Random'):\n",
    "    \"\"\"get user with the highest number of message sent to any channel\"\"\"\n",
    "\n",
    "    data['sender_name'].value_counts()[:20].plot.bar(figsize=(15, 7.5))\n",
    "    plt.title(f'Top 20 Message Senders in #{channel} channels', size=15, fontweight='bold')\n",
    "    plt.xlabel(\"Sender Name\", size=18); plt.ylabel(\"Frequency\", size=14);\n",
    "    plt.xticks(size=12); plt.yticks(size=12);\n",
    "    plt.show()\n",
    "\n",
    "    data['sender_name'].value_counts()[-10:].plot.bar(figsize=(15, 7.5))\n",
    "    plt.title(f'Bottom 10 Message Senders in #{channel} channels', size=15, fontweight='bold')\n",
    "    plt.xlabel(\"Sender Name\", size=18); plt.ylabel(\"Frequency\", size=14);\n",
    "    plt.xticks(size=12); plt.yticks(size=12);\n",
    "    plt.show()\n",
    "\n",
    "def draw_avg_reply_count(data, channel='Random'):\n",
    "    \"\"\"who commands many reply?\"\"\"\n",
    "\n",
    "    data.groupby('sender_name')['reply_count'].mean().sort_values(ascending=False)[:20]\\\n",
    "        .plot(kind='bar', figsize=(15,7.5));\n",
    "    plt.title(f'Average Number of reply count per Sender in #{channel}', size=20, fontweight='bold')\n",
    "    plt.xlabel(\"Sender Name\", size=18); plt.ylabel(\"Frequency\", size=18);\n",
    "    plt.xticks(size=14); plt.yticks(size=14);\n",
    "    plt.show()\n",
    "\n",
    "def draw_avg_reply_users_count(data, channel='Random'):\n",
    "    \"\"\"who commands many user reply?\"\"\"\n",
    "\n",
    "    data.groupby('sender_name')['reply_users_count'].mean().sort_values(ascending=False)[:20].plot(kind='bar',\n",
    "     figsize=(15,7.5));\n",
    "    plt.title(f'Average Number of reply user count per Sender in #{channel}', size=20, fontweight='bold')\n",
    "    plt.xlabel(\"Sender Name\", size=18); plt.ylabel(\"Frequency\", size=18);\n",
    "    plt.xticks(size=14); plt.yticks(size=14);\n",
    "    plt.show()\n",
    "\n",
    "def draw_wordcloud(msg_content, week):    \n",
    "    # word cloud visualization\n",
    "    allWords = ' '.join([twts for twts in msg_content])\n",
    "    wordCloud = WordCloud(background_color='#975429', width=500, height=300, random_state=21, max_words=500, mode='RGBA',\n",
    "                            max_font_size=140, stopwords=stopwords.words('english')).generate(allWords)\n",
    "    plt.figure(figsize=(15, 7.5))\n",
    "    plt.imshow(wordCloud, interpolation=\"bilinear\")\n",
    "    plt.axis('off')\n",
    "    plt.tight_layout()\n",
    "    plt.title(f'WordCloud for {week}', size=30)\n",
    "    plt.show()\n",
    "\n",
    "def draw_user_reaction(data, channel='General'):\n",
    "    data.groupby('sender_name')[['reply_count', 'reply_users_count']].sum()\\\n",
    "        .sort_values(by='reply_count',ascending=False)[:10].plot(kind='bar', figsize=(15, 7.5))\n",
    "    plt.title(f'User with the most reaction in #{channel}', size=25);\n",
    "    plt.xlabel(\"Sender Name\", size=18); plt.ylabel(\"Frequency\", size=18);\n",
    "    plt.xticks(size=14); plt.yticks(size=14);\n",
    "    plt.show()"
   ]
  },
  {
   "cell_type": "code",
   "execution_count": null,
   "metadata": {},
   "outputs": [],
   "source": []
  },
  {
   "cell_type": "markdown",
   "metadata": {},
   "source": [
    "## Insight Extraction\n",
    "\n",
    "Below are some useful questions to answer. Feel free to explore to answer other interesting questions that may be of help to get insight about student's behaviour, need, and future performance "
   ]
  },
  {
   "cell_type": "code",
   "execution_count": 596,
   "metadata": {},
   "outputs": [],
   "source": [
    "# which user has the highest number of reply counts?\n",
    "\n"
   ]
  },
  {
   "cell_type": "code",
   "execution_count": 597,
   "metadata": {},
   "outputs": [],
   "source": [
    "# Visualize reply counts per user per channel"
   ]
  },
  {
   "cell_type": "code",
   "execution_count": 598,
   "metadata": {},
   "outputs": [],
   "source": [
    "# what is the time range of the day that most messages are sent?\n"
   ]
  },
  {
   "cell_type": "code",
   "execution_count": 599,
   "metadata": {},
   "outputs": [],
   "source": [
    "# what kind of messages are replied faster than others?"
   ]
  },
  {
   "cell_type": "code",
   "execution_count": 600,
   "metadata": {},
   "outputs": [],
   "source": [
    "# Relationship between # of messages and # of reactions"
   ]
  },
  {
   "cell_type": "code",
   "execution_count": 601,
   "metadata": {},
   "outputs": [],
   "source": [
    "# Classify messages into different categories such as questions, answers, comments, etc."
   ]
  },
  {
   "cell_type": "code",
   "execution_count": 602,
   "metadata": {},
   "outputs": [],
   "source": [
    "# Which users got the most reactions?"
   ]
  },
  {
   "cell_type": "code",
   "execution_count": 603,
   "metadata": {},
   "outputs": [],
   "source": [
    "# Model topics mentioned in the channel"
   ]
  },
  {
   "cell_type": "code",
   "execution_count": 604,
   "metadata": {},
   "outputs": [],
   "source": [
    "# What are the topics that got the most reactions?"
   ]
  },
  {
   "cell_type": "markdown",
   "metadata": {},
   "source": [
    "### Harder questions to look into"
   ]
  },
  {
   "cell_type": "code",
   "execution_count": 605,
   "metadata": {},
   "outputs": [],
   "source": [
    "# Based on messages, reactions, references shared, and other relevant data such as classification of questions into techical question, comment, answer, aorder stu the python, statistics, and sql skill level of a user?"
   ]
  }
 ],
 "metadata": {
  "kernelspec": {
   "display_name": "Python 3",
   "language": "python",
   "name": "python3"
  },
  "language_info": {
   "codemirror_mode": {
    "name": "ipython",
    "version": 3
   },
   "file_extension": ".py",
   "mimetype": "text/x-python",
   "name": "python",
   "nbconvert_exporter": "python",
   "pygments_lexer": "ipython3",
   "version": "3.11.6"
  }
 },
 "nbformat": 4,
 "nbformat_minor": 4
}
